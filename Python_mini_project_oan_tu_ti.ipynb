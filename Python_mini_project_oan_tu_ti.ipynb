{
 "cells": [
  {
   "cell_type": "markdown",
   "metadata": {},
   "source": [
    "#### Trong project này chúng ta sẽ mô phỏng lại trò chơi dân gian oẳn tù tì.\n",
    "#### Cụ thể, chúng ta sẽ oẳn tù tì với máy. Máy sẽ chọn random búa, kéo, hoặc lá trong mỗi lần oẳn tù tì.\n",
    "#### Chúng ta sẽ chọn ra búa, kéo hoặc lá sau đó in ra kết quả. Trường hợp người chơi nhập sai, yêu cầu người chơi nhập lại theo đúng chính tả theo 3 sự lựa chọn búa, kéo, hoặc lá.\n",
    "#### Lưu ý, sau mỗi lượt chơi, máy sẽ random chọn lại búa kéo hoặc lá.\n",
    "\n",
    "#### Các kiến thức cover trong mini project này: Array, random, while loop, if else."
   ]
  },
  {
   "cell_type": "code",
   "execution_count": 1,
   "metadata": {},
   "outputs": [
    {
     "name": "stdout",
     "output_type": "stream",
     "text": [
      "Nhap Bua, Keo, La\n",
      "Bua\n",
      "-----\n",
      "Ban chon: Bua\n",
      "May chon: Bua\n",
      "-----\n",
      ">> Ket qua la: Hoa <<\n"
     ]
    }
   ],
   "source": [
    "from random import randint\n",
    "\n",
    "#tao vong lap va in ra ket qua\n",
    "counter = 1\n",
    "while counter < 2 :\n",
    "    counter = counter + 1\n",
    "    print(\"Nhap Bua, Keo, La\")\n",
    "    player = input()\n",
    "#khoi tao dap an cua may\n",
    "    computer = randint(1,3)\n",
    "    if computer == 1 :\n",
    "        computer = \"Bua\"\n",
    "    if computer == 2 :\n",
    "        computer = \"Keo\"\n",
    "    if computer == 3 :\n",
    "        computer = \"La\"\n",
    "#in ra lua chon cua nguoi choi va may\n",
    "    print(\"-----\")\n",
    "    print(\"Ban chon: \" + player)\n",
    "    print(\"May chon: \" + computer)\n",
    "    print(\"-----\")\n",
    "    if player == computer  :\n",
    "        print(\">> Ket qua la: Hoa <<\")\n",
    "    elif player == \"Bua\" :\n",
    "        if computer == \"Keo\" :\n",
    "            print(\">> Ket qua la: Thang <<\")\n",
    "        else :\n",
    "            print(\">> Ket qua la: Thua <<\")\n",
    "        \n",
    "    elif player == \"Keo\" :\n",
    "        if computer == \"La\" :\n",
    "            print(\">> Ket qua la: Thang <<\")\n",
    "        else :\n",
    "            print(\">> Ket qua la: Thua <<\")\n",
    "    \n",
    "    elif player == \"La\" :\n",
    "        if computer == \"Bua\" :\n",
    "            print(\">> Ket qua la: Thang <<\")\n",
    "        else :\n",
    "            print(\">> Ket qua la: Thua <<\")\n",
    "    \n",
    "    else :\n",
    "        print(\">> Ban da nhap sai, vui long nhap lai <<\")\n",
    "        counter = 1\n"
   ]
  }
 ],
 "metadata": {
  "kernelspec": {
   "display_name": "Python 3 (ipykernel)",
   "language": "python",
   "name": "python3"
  },
  "language_info": {
   "codemirror_mode": {
    "name": "ipython",
    "version": 3
   },
   "file_extension": ".py",
   "mimetype": "text/x-python",
   "name": "python",
   "nbconvert_exporter": "python",
   "pygments_lexer": "ipython3",
   "version": "3.9.12"
  }
 },
 "nbformat": 4,
 "nbformat_minor": 2
}
