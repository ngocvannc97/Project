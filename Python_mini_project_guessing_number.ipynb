{
 "cells": [
  {
   "cell_type": "markdown",
   "metadata": {},
   "source": [
    "### Trong project này, chúng ta sẽ làm 1 trò chơi nhỏ mang tên đoán số. Cụ thể, Máy tính sẽ chọn random 1 số từ 1 đến 10. \n",
    "### Chúng ta sẽ đoán máy tính chọn số bao nhiêu?\n",
    "#### - Nếu số chúng ta đoán thấp hơn máy tính thì in ra \"your guess is too low\"\n",
    "#### - Nếu số chúng ta đoán cao hơn máy tính thì in ra \"your guess is too high\"\n",
    "#### - Nếu chúng ta đoán đúng số thì in ra \"you got the right number after\" xx \"tries\" trong đó xx là số lần đoán.\n",
    "#### - Trường hợp 5 lần đoán sai thì sẽ dừng trò chơi và in ra \"Gameover!!! The number was yy\" trong đó yy là số mà máy tính chọn\n",
    "\n",
    "#### Những kiến thức cover trong project này: input(), print(), while loop, if else, break."
   ]
  },
  {
   "cell_type": "code",
   "execution_count": null,
   "metadata": {
    "scrolled": true
   },
   "outputs": [
    {
     "name": "stdout",
     "output_type": "stream",
     "text": [
      "Hey! What's your name?\n"
     ]
    }
   ],
   "source": [
    "# generate random number\n",
    "from random import randint\n",
    "computer = randint(1,10)\n",
    "\n",
    "# ask player name\n",
    "print(\"Hey! What's your name?\")\n",
    "player_name = input()\n",
    "\n",
    "# Say hi and welcome player to the guessing game\n",
    "print(\"Hi \" + str(player_name) +\" ! Welcome to the guessing game.\")\n",
    "\n",
    "    \n",
    "# develop while loop\n",
    "counter = 1\n",
    "while counter < 6 :\n",
    "    print(\"Please input your number (<10):\")\n",
    "    guess = input()\n",
    "    if int(guess) < computer :\n",
    "        print(\"your guess is too low\")\n",
    "    elif int(guess) > computer : \n",
    "        print(\"your guess is too high\")\n",
    "# guess = computer number        \n",
    "    elif int(guess) == computer :\n",
    "        print(\"you got the right number after \" + str(counter) +\" tries\")\n",
    "        break\n",
    "# guess times > 5\n",
    "    counter = counter + 1\n",
    "    if counter > 5 :\n",
    "        print(\"Gameover!!! The number was \" + str(computer))"
   ]
  },
  {
   "cell_type": "code",
   "execution_count": null,
   "metadata": {},
   "outputs": [],
   "source": []
  }
 ],
 "metadata": {
  "kernelspec": {
   "display_name": "Python 3 (ipykernel)",
   "language": "python",
   "name": "python3"
  },
  "language_info": {
   "codemirror_mode": {
    "name": "ipython",
    "version": 3
   },
   "file_extension": ".py",
   "mimetype": "text/x-python",
   "name": "python",
   "nbconvert_exporter": "python",
   "pygments_lexer": "ipython3",
   "version": "3.9.12"
  }
 },
 "nbformat": 4,
 "nbformat_minor": 2
}
