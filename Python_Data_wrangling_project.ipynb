{
 "cells": [
  {
   "cell_type": "markdown",
   "id": "bebcebf6",
   "metadata": {},
   "source": [
    "#  Python_DataWrangling_Project\n",
    "You have two sample datasets:\n",
    "\n",
    "1.prices.csv: records of product's history price changes in Sep 2018\n",
    "\n",
    "2.sales.csv: records of product's sales in Sep 2018\n",
    "\n",
    "Use any data wrangling tools to calculcate the total revenue of each product at each price. The solution must be applicable to similar datasets with large numbers of records.\n"
   ]
  },
  {
   "cell_type": "code",
   "execution_count": null,
   "id": "0c003970",
   "metadata": {
    "scrolled": true
   },
   "outputs": [],
   "source": [
    "import pandas as pd\n",
    "import numpy as np\n",
    "from datetime import datetime as dt\n",
    "#import prices.csv\n",
    "prices= pd.read_csv(\"prices.csv\")\n",
    "# print(prices.head())\n",
    "# print(prices.info())\n",
    "\n",
    "\n",
    "prices['updated_at'] = pd.to_datetime(prices.updated_at)\n",
    "prices = prices.sort_values([\"updated_at\"], ascending=[True])\n",
    "prices\n"
   ]
  },
  {
   "cell_type": "code",
   "execution_count": null,
   "id": "65075bf4",
   "metadata": {},
   "outputs": [],
   "source": [
    "#import sales.csv\n",
    "sales = pd.read_csv(\"sales.csv\")\n",
    "# print(sales.head())\n",
    "# print(sales.info())\n",
    "\n",
    "\n",
    "sales['ordered_at'] = pd.to_datetime(sales.ordered_at)\n",
    "sales = sales.sort_values([\"ordered_at\"], ascending=[True])\n",
    "sales"
   ]
  },
  {
   "cell_type": "code",
   "execution_count": null,
   "id": "ce307345",
   "metadata": {},
   "outputs": [],
   "source": [
    "#merge_asof 2 bảng để matching thời điểm update giá gần nhất với thời điểm order theo từng product_id\n",
    "\n",
    "sales = pd.merge_asof(sales,\n",
    "                      prices,\n",
    "                      left_on='ordered_at', \n",
    "                      right_on='updated_at',\n",
    "                      by='product_id', \n",
    "                      direction='nearest')\n",
    "\n",
    "#matching để đưa ra giá đúng cho mỗi order  \n",
    "sales['price'] = np.where(sales['ordered_at']>=sales['updated_at'],sales['new_price'],sales['old_price'])\n",
    "# sales.to_csv('sales_final.csv')\n",
    "#tính doanh thu và tạo bảng tổng hợp\n",
    "sales['revenue'] = sales['quantity_ordered']*sales['price']\n",
    "sales"
   ]
  },
  {
   "cell_type": "code",
   "execution_count": null,
   "id": "a73c73e6",
   "metadata": {},
   "outputs": [],
   "source": [
    "\n",
    "sumary = sales.groupby([\"product_id\", \"price\"] )[\"revenue\"].sum()\n",
    "sumary\n"
   ]
  },
  {
   "cell_type": "code",
   "execution_count": null,
   "id": "cb8dec49",
   "metadata": {},
   "outputs": [],
   "source": [
    "sales_by_product = sales.groupby([\"product_id\"] )[\"revenue\"].sum()\n",
    "sales_by_product"
   ]
  },
  {
   "cell_type": "code",
   "execution_count": null,
   "id": "15296f41",
   "metadata": {},
   "outputs": [],
   "source": []
  }
 ],
 "metadata": {
  "kernelspec": {
   "display_name": "Python 3 (ipykernel)",
   "language": "python",
   "name": "python3"
  },
  "language_info": {
   "codemirror_mode": {
    "name": "ipython",
    "version": 3
   },
   "file_extension": ".py",
   "mimetype": "text/x-python",
   "name": "python",
   "nbconvert_exporter": "python",
   "pygments_lexer": "ipython3",
   "version": "3.9.12"
  }
 },
 "nbformat": 4,
 "nbformat_minor": 5
}
